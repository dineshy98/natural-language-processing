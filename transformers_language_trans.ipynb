{
  "nbformat": 4,
  "nbformat_minor": 0,
  "metadata": {
    "colab": {
      "name": "Untitled8.ipynb",
      "provenance": [],
      "authorship_tag": "ABX9TyMzz7v1h0XkdGlcOnlB+kiS",
      "include_colab_link": true
    },
    "kernelspec": {
      "name": "python3",
      "display_name": "Python 3"
    },
    "language_info": {
      "name": "python"
    },
    "accelerator": "TPU"
  },
  "cells": [
    {
      "cell_type": "markdown",
      "metadata": {
        "id": "view-in-github",
        "colab_type": "text"
      },
      "source": [
        "<a href=\"https://colab.research.google.com/github/dineshy98/natural-language-processing/blob/master/transformers_language_trans.ipynb\" target=\"_parent\"><img src=\"https://colab.research.google.com/assets/colab-badge.svg\" alt=\"Open In Colab\"/></a>"
      ]
    },
    {
      "cell_type": "code",
      "metadata": {
        "colab": {
          "base_uri": "https://localhost:8080/",
          "height": 522
        },
        "id": "2u_Z__iDyU-G",
        "outputId": "98251910-1d48-49ee-add1-d2f7471e6a1e"
      },
      "source": [
        "from google.colab import drive\n",
        "drive.mount('/content/drive/')"
      ],
      "execution_count": 1,
      "outputs": [
        {
          "output_type": "error",
          "ename": "KeyboardInterrupt",
          "evalue": "ignored",
          "traceback": [
            "\u001b[0;31m---------------------------------------------------------------------------\u001b[0m",
            "\u001b[0;31mKeyboardInterrupt\u001b[0m                         Traceback (most recent call last)",
            "\u001b[0;32m/usr/local/lib/python3.7/dist-packages/ipykernel/kernelbase.py\u001b[0m in \u001b[0;36m_input_request\u001b[0;34m(self, prompt, ident, parent, password)\u001b[0m\n\u001b[1;32m    728\u001b[0m             \u001b[0;32mtry\u001b[0m\u001b[0;34m:\u001b[0m\u001b[0;34m\u001b[0m\u001b[0;34m\u001b[0m\u001b[0m\n\u001b[0;32m--> 729\u001b[0;31m                 \u001b[0mident\u001b[0m\u001b[0;34m,\u001b[0m \u001b[0mreply\u001b[0m \u001b[0;34m=\u001b[0m \u001b[0mself\u001b[0m\u001b[0;34m.\u001b[0m\u001b[0msession\u001b[0m\u001b[0;34m.\u001b[0m\u001b[0mrecv\u001b[0m\u001b[0;34m(\u001b[0m\u001b[0mself\u001b[0m\u001b[0;34m.\u001b[0m\u001b[0mstdin_socket\u001b[0m\u001b[0;34m,\u001b[0m \u001b[0;36m0\u001b[0m\u001b[0;34m)\u001b[0m\u001b[0;34m\u001b[0m\u001b[0;34m\u001b[0m\u001b[0m\n\u001b[0m\u001b[1;32m    730\u001b[0m             \u001b[0;32mexcept\u001b[0m \u001b[0mException\u001b[0m\u001b[0;34m:\u001b[0m\u001b[0;34m\u001b[0m\u001b[0;34m\u001b[0m\u001b[0m\n",
            "\u001b[0;32m/usr/local/lib/python3.7/dist-packages/jupyter_client/session.py\u001b[0m in \u001b[0;36mrecv\u001b[0;34m(self, socket, mode, content, copy)\u001b[0m\n\u001b[1;32m    802\u001b[0m         \u001b[0;32mtry\u001b[0m\u001b[0;34m:\u001b[0m\u001b[0;34m\u001b[0m\u001b[0;34m\u001b[0m\u001b[0m\n\u001b[0;32m--> 803\u001b[0;31m             \u001b[0mmsg_list\u001b[0m \u001b[0;34m=\u001b[0m \u001b[0msocket\u001b[0m\u001b[0;34m.\u001b[0m\u001b[0mrecv_multipart\u001b[0m\u001b[0;34m(\u001b[0m\u001b[0mmode\u001b[0m\u001b[0;34m,\u001b[0m \u001b[0mcopy\u001b[0m\u001b[0;34m=\u001b[0m\u001b[0mcopy\u001b[0m\u001b[0;34m)\u001b[0m\u001b[0;34m\u001b[0m\u001b[0;34m\u001b[0m\u001b[0m\n\u001b[0m\u001b[1;32m    804\u001b[0m         \u001b[0;32mexcept\u001b[0m \u001b[0mzmq\u001b[0m\u001b[0;34m.\u001b[0m\u001b[0mZMQError\u001b[0m \u001b[0;32mas\u001b[0m \u001b[0me\u001b[0m\u001b[0;34m:\u001b[0m\u001b[0;34m\u001b[0m\u001b[0;34m\u001b[0m\u001b[0m\n",
            "\u001b[0;32m/usr/local/lib/python3.7/dist-packages/zmq/sugar/socket.py\u001b[0m in \u001b[0;36mrecv_multipart\u001b[0;34m(self, flags, copy, track)\u001b[0m\n\u001b[1;32m    582\u001b[0m         \"\"\"\n\u001b[0;32m--> 583\u001b[0;31m         \u001b[0mparts\u001b[0m \u001b[0;34m=\u001b[0m \u001b[0;34m[\u001b[0m\u001b[0mself\u001b[0m\u001b[0;34m.\u001b[0m\u001b[0mrecv\u001b[0m\u001b[0;34m(\u001b[0m\u001b[0mflags\u001b[0m\u001b[0;34m,\u001b[0m \u001b[0mcopy\u001b[0m\u001b[0;34m=\u001b[0m\u001b[0mcopy\u001b[0m\u001b[0;34m,\u001b[0m \u001b[0mtrack\u001b[0m\u001b[0;34m=\u001b[0m\u001b[0mtrack\u001b[0m\u001b[0;34m)\u001b[0m\u001b[0;34m]\u001b[0m\u001b[0;34m\u001b[0m\u001b[0;34m\u001b[0m\u001b[0m\n\u001b[0m\u001b[1;32m    584\u001b[0m         \u001b[0;31m# have first part already, only loop while more to receive\u001b[0m\u001b[0;34m\u001b[0m\u001b[0;34m\u001b[0m\u001b[0;34m\u001b[0m\u001b[0m\n",
            "\u001b[0;32mzmq/backend/cython/socket.pyx\u001b[0m in \u001b[0;36mzmq.backend.cython.socket.Socket.recv\u001b[0;34m()\u001b[0m\n",
            "\u001b[0;32mzmq/backend/cython/socket.pyx\u001b[0m in \u001b[0;36mzmq.backend.cython.socket.Socket.recv\u001b[0;34m()\u001b[0m\n",
            "\u001b[0;32mzmq/backend/cython/socket.pyx\u001b[0m in \u001b[0;36mzmq.backend.cython.socket._recv_copy\u001b[0;34m()\u001b[0m\n",
            "\u001b[0;32m/usr/local/lib/python3.7/dist-packages/zmq/backend/cython/checkrc.pxd\u001b[0m in \u001b[0;36mzmq.backend.cython.checkrc._check_rc\u001b[0;34m()\u001b[0m\n",
            "\u001b[0;31mKeyboardInterrupt\u001b[0m: ",
            "\nDuring handling of the above exception, another exception occurred:\n",
            "\u001b[0;31mKeyboardInterrupt\u001b[0m                         Traceback (most recent call last)",
            "\u001b[0;32m<ipython-input-1-91874b305a32>\u001b[0m in \u001b[0;36m<module>\u001b[0;34m()\u001b[0m\n\u001b[1;32m      1\u001b[0m \u001b[0;32mfrom\u001b[0m \u001b[0mgoogle\u001b[0m\u001b[0;34m.\u001b[0m\u001b[0mcolab\u001b[0m \u001b[0;32mimport\u001b[0m \u001b[0mdrive\u001b[0m\u001b[0;34m\u001b[0m\u001b[0;34m\u001b[0m\u001b[0m\n\u001b[0;32m----> 2\u001b[0;31m \u001b[0mdrive\u001b[0m\u001b[0;34m.\u001b[0m\u001b[0mmount\u001b[0m\u001b[0;34m(\u001b[0m\u001b[0;34m'/content/drive/'\u001b[0m\u001b[0;34m)\u001b[0m\u001b[0;34m\u001b[0m\u001b[0;34m\u001b[0m\u001b[0m\n\u001b[0m",
            "\u001b[0;32m/usr/local/lib/python3.7/dist-packages/google/colab/drive.py\u001b[0m in \u001b[0;36mmount\u001b[0;34m(mountpoint, force_remount, timeout_ms, use_metadata_server)\u001b[0m\n\u001b[1;32m    258\u001b[0m       \u001b[0;32mwith\u001b[0m \u001b[0m_output\u001b[0m\u001b[0;34m.\u001b[0m\u001b[0muse_tags\u001b[0m\u001b[0;34m(\u001b[0m\u001b[0;34m'dfs-auth-dance'\u001b[0m\u001b[0;34m)\u001b[0m\u001b[0;34m:\u001b[0m\u001b[0;34m\u001b[0m\u001b[0;34m\u001b[0m\u001b[0m\n\u001b[1;32m    259\u001b[0m         \u001b[0;32mwith\u001b[0m \u001b[0mopen\u001b[0m\u001b[0;34m(\u001b[0m\u001b[0mfifo\u001b[0m\u001b[0;34m,\u001b[0m \u001b[0;34m'w'\u001b[0m\u001b[0;34m)\u001b[0m \u001b[0;32mas\u001b[0m \u001b[0mfifo_file\u001b[0m\u001b[0;34m:\u001b[0m\u001b[0;34m\u001b[0m\u001b[0;34m\u001b[0m\u001b[0m\n\u001b[0;32m--> 260\u001b[0;31m           \u001b[0mfifo_file\u001b[0m\u001b[0;34m.\u001b[0m\u001b[0mwrite\u001b[0m\u001b[0;34m(\u001b[0m\u001b[0mget_code\u001b[0m\u001b[0;34m(\u001b[0m\u001b[0mauth_prompt\u001b[0m\u001b[0;34m)\u001b[0m \u001b[0;34m+\u001b[0m \u001b[0;34m'\\n'\u001b[0m\u001b[0;34m)\u001b[0m\u001b[0;34m\u001b[0m\u001b[0;34m\u001b[0m\u001b[0m\n\u001b[0m\u001b[1;32m    261\u001b[0m       \u001b[0mwrote_to_fifo\u001b[0m \u001b[0;34m=\u001b[0m \u001b[0;32mTrue\u001b[0m\u001b[0;34m\u001b[0m\u001b[0;34m\u001b[0m\u001b[0m\n\u001b[1;32m    262\u001b[0m     \u001b[0;32melif\u001b[0m \u001b[0mcase\u001b[0m \u001b[0;34m==\u001b[0m \u001b[0;36m5\u001b[0m\u001b[0;34m:\u001b[0m\u001b[0;34m\u001b[0m\u001b[0;34m\u001b[0m\u001b[0m\n",
            "\u001b[0;32m/usr/local/lib/python3.7/dist-packages/ipykernel/kernelbase.py\u001b[0m in \u001b[0;36mraw_input\u001b[0;34m(self, prompt)\u001b[0m\n\u001b[1;32m    702\u001b[0m             \u001b[0mself\u001b[0m\u001b[0;34m.\u001b[0m\u001b[0m_parent_ident\u001b[0m\u001b[0;34m,\u001b[0m\u001b[0;34m\u001b[0m\u001b[0;34m\u001b[0m\u001b[0m\n\u001b[1;32m    703\u001b[0m             \u001b[0mself\u001b[0m\u001b[0;34m.\u001b[0m\u001b[0m_parent_header\u001b[0m\u001b[0;34m,\u001b[0m\u001b[0;34m\u001b[0m\u001b[0;34m\u001b[0m\u001b[0m\n\u001b[0;32m--> 704\u001b[0;31m             \u001b[0mpassword\u001b[0m\u001b[0;34m=\u001b[0m\u001b[0;32mFalse\u001b[0m\u001b[0;34m,\u001b[0m\u001b[0;34m\u001b[0m\u001b[0;34m\u001b[0m\u001b[0m\n\u001b[0m\u001b[1;32m    705\u001b[0m         )\n\u001b[1;32m    706\u001b[0m \u001b[0;34m\u001b[0m\u001b[0m\n",
            "\u001b[0;32m/usr/local/lib/python3.7/dist-packages/ipykernel/kernelbase.py\u001b[0m in \u001b[0;36m_input_request\u001b[0;34m(self, prompt, ident, parent, password)\u001b[0m\n\u001b[1;32m    732\u001b[0m             \u001b[0;32mexcept\u001b[0m \u001b[0mKeyboardInterrupt\u001b[0m\u001b[0;34m:\u001b[0m\u001b[0;34m\u001b[0m\u001b[0;34m\u001b[0m\u001b[0m\n\u001b[1;32m    733\u001b[0m                 \u001b[0;31m# re-raise KeyboardInterrupt, to truncate traceback\u001b[0m\u001b[0;34m\u001b[0m\u001b[0;34m\u001b[0m\u001b[0;34m\u001b[0m\u001b[0m\n\u001b[0;32m--> 734\u001b[0;31m                 \u001b[0;32mraise\u001b[0m \u001b[0mKeyboardInterrupt\u001b[0m\u001b[0;34m\u001b[0m\u001b[0;34m\u001b[0m\u001b[0m\n\u001b[0m\u001b[1;32m    735\u001b[0m             \u001b[0;32melse\u001b[0m\u001b[0;34m:\u001b[0m\u001b[0;34m\u001b[0m\u001b[0;34m\u001b[0m\u001b[0m\n\u001b[1;32m    736\u001b[0m                 \u001b[0;32mbreak\u001b[0m\u001b[0;34m\u001b[0m\u001b[0;34m\u001b[0m\u001b[0m\n",
            "\u001b[0;31mKeyboardInterrupt\u001b[0m: "
          ]
        }
      ]
    },
    {
      "cell_type": "code",
      "metadata": {
        "id": "-h4Wpgoayp80"
      },
      "source": [
        "\n",
        "import pandas as pd\n",
        "import numpy as np\n",
        "import re\n",
        "\n",
        "english = []\n",
        "\n",
        "for line in  open('/content/drive/My Drive/Datasets/Language_Translation/english.txt'):\n",
        "    english.append(line)\n",
        "\n",
        "\n",
        "\n",
        "french = []\n",
        "\n",
        "for line in  open('/content/drive/My Drive/Datasets/Language_Translation/french.txt'):\n",
        "    french.append(line)\n",
        "\n",
        "data1 = pd.DataFrame(english,columns = ['english'])\n",
        "data1['french'] = french\n",
        "\n",
        "data = data1.copy()\n",
        "data.columns = ['en','de']"
      ],
      "execution_count": null,
      "outputs": []
    },
    {
      "cell_type": "code",
      "metadata": {
        "id": "4JAX0rNDzTGL"
      },
      "source": [
        "#1.Removing unwanted texts \n",
        "def clean_data(df_col):\n",
        "    \n",
        "    df_col = df_col.apply(lambda x : re.sub(r'[!@#$(),-.\"%^*?:;~`0-9]', '', str(x)))\n",
        "    df_col = df_col.apply(lambda x : x.lower())\n",
        "    df_col = df_col.apply(lambda x : \" \".join(x.split()))\n",
        "    \n",
        "    \n",
        "    return df_col\n",
        "\n",
        "data['en'] = clean_data(data['en'])\n",
        "data['de'] = clean_data(data['de'])\n",
        "\n"
      ],
      "execution_count": null,
      "outputs": []
    },
    {
      "cell_type": "code",
      "metadata": {
        "id": "v5IgRCKdzVXF"
      },
      "source": [
        "def get_vocab(df_col):\n",
        "    vocab_list = []\n",
        "    for line in df_col:\n",
        "        vocab_list.extend(line.split(' '))\n",
        "        \n",
        "    return list(set(vocab_list))"
      ],
      "execution_count": null,
      "outputs": []
    },
    {
      "cell_type": "code",
      "metadata": {
        "id": "HTZLSu8VzY4x"
      },
      "source": [
        "import tensorflow\n",
        "from tensorflow.keras.preprocessing.sequence import pad_sequences\n",
        "\n",
        "def padding_vocabsize_object(df_col,decoder_bool):   \n",
        "    \n",
        "    tokenizer = tensorflow.keras.preprocessing.text.Tokenizer(\n",
        "        lower=True, split=' ', char_level=False, oov_token=None)\n",
        "    \n",
        "    tokenizer.fit_on_texts(df_col)\n",
        "    sequences = tokenizer.texts_to_sequences(df_col)\n",
        "    \n",
        "    max_len = max([len(x) for x in sequences])\n",
        "    \n",
        "    if decoder_bool:\n",
        "        max_len = max_len+1\n",
        "    \n",
        "    padded = pad_sequences(sequences, padding='post', truncating='post', maxlen=max_len)\n",
        "    \n",
        "    return tokenizer,padded,max_len\n",
        "\n",
        "\n",
        "\n",
        "en_t,en_padded,en_max_len = padding_vocabsize_object(data['en'],decoder_bool = False)\n",
        "de_t,de_padded,de_max_len = padding_vocabsize_object(data['de'],decoder_bool = True)\n",
        "\n",
        "de_padded_shifted = np.roll(de_padded, 1, axis=1)"
      ],
      "execution_count": null,
      "outputs": []
    },
    {
      "cell_type": "code",
      "metadata": {
        "id": "RLlcl8mczbvc"
      },
      "source": [
        "en_token_to_int = en_t.word_index\n",
        "de_token_to_int = de_t.word_index\n",
        "\n",
        "en_int_to_token = en_t.index_word\n",
        "de_int_to_token = de_t.index_word\n",
        "\n",
        "\n",
        "de_vocab_size = len(de_token_to_int)\n",
        "en_vocab_size = len(en_token_to_int)\n",
        "samples = len(data['en'])\n",
        "\n",
        "decoder_target_data = np.zeros((samples, de_max_len, de_vocab_size+1),dtype='float32')\n",
        "\n",
        "for sentence_number,sentence in enumerate(data['de']):\n",
        "    for timestep,word in enumerate(sentence.split(' ')):\n",
        "        decoder_target_data[sentence_number,timestep,de_token_to_int[word]] = 1"
      ],
      "execution_count": null,
      "outputs": []
    },
    {
      "cell_type": "code",
      "metadata": {
        "id": "T8WlW6R3zd7I"
      },
      "source": [
        "import tensorflow\n",
        "from tensorflow.keras.layers import Input,LSTM,Dense,Embedding\n",
        "from tensorflow.keras.models import Sequential, Model\n",
        "from tensorflow.keras.utils import plot_model\n",
        "from tensorflow.keras.layers import Attention,AdditiveAttention"
      ],
      "execution_count": null,
      "outputs": []
    },
    {
      "cell_type": "code",
      "metadata": {
        "id": "iYm-I0KNzja_"
      },
      "source": [
        "#encoder\n",
        "en_input = Input(shape = (en_max_len,) , name = 'encoder_input')\n",
        "en_embedding = Embedding(input_dim = en_vocab_size+1,output_dim = 100,input_length = en_max_len)(en_input)\n",
        "en_out,en_h,en_s = LSTM(5,return_state = True,return_sequences = True,name = 'encoder_lstm')(en_embedding)\n",
        "\n",
        "en_states = [en_h,en_s]\n",
        "\n",
        "\n",
        "\n",
        "#decoder\n",
        "de_input = Input(shape = (de_max_len,) , name = 'decoder_input')\n",
        "de_embedding = Embedding(input_dim = de_vocab_size+1,output_dim = 100,input_length = de_max_len)(de_input)\n",
        "de_lstm = LSTM(5,return_state = True,return_sequences = True,name = 'decoder_lstm')\n",
        "de_outs,de_hs,de_ss = de_lstm(de_embedding,initial_state = en_states)\n",
        "\n",
        "decoder_dense = Dense(de_vocab_size+1,activation = 'softmax',name = 'decoder_dense')\n",
        "decoder_outputs = decoder_dense(de_outs)\n",
        "\n",
        "\n",
        "\n",
        "\n",
        "model = Model([en_input, de_input], decoder_outputs, name='model_encoder_training')"
      ],
      "execution_count": null,
      "outputs": []
    },
    {
      "cell_type": "code",
      "metadata": {
        "colab": {
          "base_uri": "https://localhost:8080/"
        },
        "id": "JdQWRJgH0qgS",
        "outputId": "57b261a6-1076-4944-e3b3-f2de76d4547a"
      },
      "source": [
        "model.compile(optimizer = 'adam',metrics = ['accuracy'],loss = 'categorical_crossentropy')\n",
        "model.summary()"
      ],
      "execution_count": null,
      "outputs": [
        {
          "output_type": "stream",
          "text": [
            "Model: \"model_encoder_training\"\n",
            "__________________________________________________________________________________________________\n",
            "Layer (type)                    Output Shape         Param #     Connected to                     \n",
            "==================================================================================================\n",
            "encoder_input (InputLayer)      [(None, 15)]         0                                            \n",
            "__________________________________________________________________________________________________\n",
            "decoder_input (InputLayer)      [(None, 22)]         0                                            \n",
            "__________________________________________________________________________________________________\n",
            "embedding_4 (Embedding)         (None, 15, 100)      20000       encoder_input[0][0]              \n",
            "__________________________________________________________________________________________________\n",
            "embedding_5 (Embedding)         (None, 22, 100)      34500       decoder_input[0][0]              \n",
            "__________________________________________________________________________________________________\n",
            "encoder_lstm (LSTM)             [(None, 15, 5), (Non 2120        embedding_4[0][0]                \n",
            "__________________________________________________________________________________________________\n",
            "decoder_lstm (LSTM)             [(None, 22, 5), (Non 2120        embedding_5[0][0]                \n",
            "                                                                 encoder_lstm[0][1]               \n",
            "                                                                 encoder_lstm[0][2]               \n",
            "__________________________________________________________________________________________________\n",
            "decoder_dense (Dense)           (None, 22, 345)      2070        decoder_lstm[0][0]               \n",
            "==================================================================================================\n",
            "Total params: 60,810\n",
            "Trainable params: 60,810\n",
            "Non-trainable params: 0\n",
            "__________________________________________________________________________________________________\n"
          ],
          "name": "stdout"
        }
      ]
    },
    {
      "cell_type": "markdown",
      "metadata": {
        "id": "6B7Sa9rcznBg"
      },
      "source": [
        "model.compile(optimizer = 'adam',metrics = ['accuracy'],loss = 'categorical_crossentropy')\n",
        "model.summary()"
      ]
    },
    {
      "cell_type": "code",
      "metadata": {
        "colab": {
          "base_uri": "https://localhost:8080/",
          "height": 533
        },
        "id": "BaQr43lyzq9w",
        "outputId": "137a5640-7d9a-4227-e579-9adf74550dbe"
      },
      "source": [
        "plot_model(model, show_shapes=True)"
      ],
      "execution_count": null,
      "outputs": [
        {
          "output_type": "execute_result",
          "data": {
            "image/png": "[encoded data removed]",
            "text/plain": [
              "<IPython.core.display.Image object>"
            ]
          },
          "metadata": {
            "tags": []
          },
          "execution_count": 15
        }
      ]
    },
    {
      "cell_type": "code",
      "metadata": {
        "colab": {
          "base_uri": "https://localhost:8080/"
        },
        "id": "aNQD8HoizvAm",
        "outputId": "cc3d044f-5191-4526-a7a6-b5c4582bcef8"
      },
      "source": [
        "model.fit([en_padded, de_padded_shifted], decoder_target_data,\n",
        "          batch_size=32,\n",
        "          epochs=1000,\n",
        "          validation_split=0.2)"
      ],
      "execution_count": null,
      "outputs": [
        {
          "output_type": "stream",
          "text": [
            "Epoch 1/1000\n",
            "3447/3447 [==============================] - 125s 24ms/step - loss: 2.3445 - accuracy: 0.0717 - val_loss: 2.1791 - val_accuracy: 0.0815\n",
            "Epoch 2/1000\n",
            "3447/3447 [==============================] - 81s 24ms/step - loss: 2.1180 - accuracy: 0.0857 - val_loss: 2.0656 - val_accuracy: 0.0899\n",
            "Epoch 3/1000\n",
            "3447/3447 [==============================] - 81s 24ms/step - loss: 2.0328 - accuracy: 0.0934 - val_loss: 1.9980 - val_accuracy: 0.0978\n",
            "Epoch 4/1000\n",
            "3447/3447 [==============================] - 80s 23ms/step - loss: 1.9635 - accuracy: 0.1007 - val_loss: 1.9329 - val_accuracy: 0.1075\n",
            "Epoch 5/1000\n",
            "3447/3447 [==============================] - 80s 23ms/step - loss: 1.9065 - accuracy: 0.1128 - val_loss: 1.8827 - val_accuracy: 0.1171\n",
            "Epoch 6/1000\n",
            "3447/3447 [==============================] - 81s 24ms/step - loss: 1.8675 - accuracy: 0.1179 - val_loss: 1.8506 - val_accuracy: 0.1178\n",
            "Epoch 7/1000\n",
            "3447/3447 [==============================] - 81s 23ms/step - loss: 1.8412 - accuracy: 0.1193 - val_loss: 1.8273 - val_accuracy: 0.1205\n",
            "Epoch 8/1000\n",
            "3447/3447 [==============================] - 81s 23ms/step - loss: 1.8210 - accuracy: 0.1238 - val_loss: 1.8102 - val_accuracy: 0.1278\n",
            "Epoch 9/1000\n",
            "3447/3447 [==============================] - 81s 23ms/step - loss: 1.8022 - accuracy: 0.1326 - val_loss: 1.7931 - val_accuracy: 0.1357\n",
            "Epoch 10/1000\n",
            "3447/3447 [==============================] - 81s 24ms/step - loss: 1.7863 - accuracy: 0.1369 - val_loss: 1.7773 - val_accuracy: 0.1367\n",
            "Epoch 11/1000\n",
            "3447/3447 [==============================] - 81s 24ms/step - loss: 1.7722 - accuracy: 0.1384 - val_loss: 1.7666 - val_accuracy: 0.1372\n",
            "Epoch 12/1000\n",
            "3447/3447 [==============================] - 81s 24ms/step - loss: 1.7555 - accuracy: 0.1439 - val_loss: 1.7481 - val_accuracy: 0.1440\n",
            "Epoch 13/1000\n",
            "3447/3447 [==============================] - 81s 23ms/step - loss: 1.7447 - accuracy: 0.1466 - val_loss: 1.7391 - val_accuracy: 0.1483\n",
            "Epoch 14/1000\n",
            "3447/3447 [==============================] - 81s 23ms/step - loss: 1.7375 - accuracy: 0.1461 - val_loss: 1.7315 - val_accuracy: 0.1433\n",
            "Epoch 15/1000\n",
            "3447/3447 [==============================] - 81s 23ms/step - loss: 1.7308 - accuracy: 0.1469 - val_loss: 1.7246 - val_accuracy: 0.1436\n",
            "Epoch 16/1000\n",
            "3447/3447 [==============================] - 81s 23ms/step - loss: 1.7223 - accuracy: 0.1468 - val_loss: 1.7166 - val_accuracy: 0.1469\n",
            "Epoch 17/1000\n",
            "3447/3447 [==============================] - 81s 24ms/step - loss: 1.7143 - accuracy: 0.1456 - val_loss: 1.7096 - val_accuracy: 0.1403\n",
            "Epoch 18/1000\n",
            "3447/3447 [==============================] - 81s 24ms/step - loss: 1.7092 - accuracy: 0.1459 - val_loss: 1.7053 - val_accuracy: 0.1536\n",
            "Epoch 19/1000\n",
            "3447/3447 [==============================] - 81s 24ms/step - loss: 1.7030 - accuracy: 0.1457 - val_loss: 1.7002 - val_accuracy: 0.1402\n",
            "Epoch 20/1000\n",
            "3447/3447 [==============================] - 80s 23ms/step - loss: 1.6984 - accuracy: 0.1462 - val_loss: 1.6944 - val_accuracy: 0.1427\n",
            "Epoch 21/1000\n",
            "3447/3447 [==============================] - 80s 23ms/step - loss: 1.6938 - accuracy: 0.1481 - val_loss: 1.6899 - val_accuracy: 0.1498\n",
            "Epoch 22/1000\n",
            "3447/3447 [==============================] - 80s 23ms/step - loss: 1.6892 - accuracy: 0.1501 - val_loss: 1.6850 - val_accuracy: 0.1497\n",
            "Epoch 23/1000\n",
            "3447/3447 [==============================] - 80s 23ms/step - loss: 1.6853 - accuracy: 0.1510 - val_loss: 1.6765 - val_accuracy: 0.1510\n",
            "Epoch 24/1000\n",
            "3447/3447 [==============================] - 81s 23ms/step - loss: 1.6764 - accuracy: 0.1521 - val_loss: 1.6730 - val_accuracy: 0.1514\n",
            "Epoch 25/1000\n",
            "3447/3447 [==============================] - 80s 23ms/step - loss: 1.6729 - accuracy: 0.1524 - val_loss: 1.6688 - val_accuracy: 0.1508\n",
            "Epoch 26/1000\n",
            "3447/3447 [==============================] - 81s 23ms/step - loss: 1.6679 - accuracy: 0.1536 - val_loss: 1.6628 - val_accuracy: 0.1552\n",
            "Epoch 27/1000\n",
            "3447/3447 [==============================] - 81s 23ms/step - loss: 1.6630 - accuracy: 0.1548 - val_loss: 1.6597 - val_accuracy: 0.1544\n",
            "Epoch 28/1000\n",
            "3447/3447 [==============================] - 81s 23ms/step - loss: 1.6585 - accuracy: 0.1562 - val_loss: 1.6557 - val_accuracy: 0.1563\n",
            "Epoch 29/1000\n",
            "3447/3447 [==============================] - 80s 23ms/step - loss: 1.6545 - accuracy: 0.1570 - val_loss: 1.6512 - val_accuracy: 0.1554\n",
            "Epoch 30/1000\n",
            "3447/3447 [==============================] - 80s 23ms/step - loss: 1.6493 - accuracy: 0.1585 - val_loss: 1.6429 - val_accuracy: 0.1576\n",
            "Epoch 31/1000\n",
            "3447/3447 [==============================] - 81s 23ms/step - loss: 1.6454 - accuracy: 0.1588 - val_loss: 1.6428 - val_accuracy: 0.1577\n",
            "Epoch 32/1000\n",
            "3447/3447 [==============================] - 81s 23ms/step - loss: 1.6423 - accuracy: 0.1587 - val_loss: 1.6377 - val_accuracy: 0.1575\n",
            "Epoch 33/1000\n",
            "3447/3447 [==============================] - 81s 23ms/step - loss: 1.6391 - accuracy: 0.1589 - val_loss: 1.6372 - val_accuracy: 0.1589\n",
            "Epoch 34/1000\n",
            "3447/3447 [==============================] - 82s 24ms/step - loss: 1.6358 - accuracy: 0.1592 - val_loss: 1.6345 - val_accuracy: 0.1585\n",
            "Epoch 35/1000\n",
            "3447/3447 [==============================] - 82s 24ms/step - loss: 1.6333 - accuracy: 0.1589 - val_loss: 1.6280 - val_accuracy: 0.1583\n",
            "Epoch 36/1000\n",
            "3447/3447 [==============================] - 81s 24ms/step - loss: 1.6300 - accuracy: 0.1592 - val_loss: 1.6237 - val_accuracy: 0.1596\n",
            "Epoch 37/1000\n",
            "3447/3447 [==============================] - 82s 24ms/step - loss: 1.6277 - accuracy: 0.1590 - val_loss: 1.6254 - val_accuracy: 0.1590\n",
            "Epoch 38/1000\n",
            "3447/3447 [==============================] - 81s 24ms/step - loss: 1.6264 - accuracy: 0.1586 - val_loss: 1.6240 - val_accuracy: 0.1579\n",
            "Epoch 39/1000\n",
            "3447/3447 [==============================] - 81s 23ms/step - loss: 1.6197 - accuracy: 0.1586 - val_loss: 1.6130 - val_accuracy: 0.1604\n",
            "Epoch 40/1000\n",
            "3447/3447 [==============================] - 80s 23ms/step - loss: 1.6125 - accuracy: 0.1597 - val_loss: 1.6103 - val_accuracy: 0.1588\n",
            "Epoch 41/1000\n",
            "3447/3447 [==============================] - 81s 23ms/step - loss: 1.6130 - accuracy: 0.1602 - val_loss: 1.6089 - val_accuracy: 0.1596\n",
            "Epoch 42/1000\n",
            "3447/3447 [==============================] - 80s 23ms/step - loss: 1.6106 - accuracy: 0.1615 - val_loss: 1.6096 - val_accuracy: 0.1630\n",
            "Epoch 43/1000\n",
            "3447/3447 [==============================] - 80s 23ms/step - loss: 1.6077 - accuracy: 0.1627 - val_loss: 1.6069 - val_accuracy: 0.1632\n",
            "Epoch 44/1000\n",
            "3447/3447 [==============================] - 80s 23ms/step - loss: 1.6093 - accuracy: 0.1622 - val_loss: 1.6053 - val_accuracy: 0.1619\n",
            "Epoch 45/1000\n",
            "3447/3447 [==============================] - 80s 23ms/step - loss: 1.6062 - accuracy: 0.1630 - val_loss: 1.6044 - val_accuracy: 0.1621\n",
            "Epoch 46/1000\n",
            "3447/3447 [==============================] - 80s 23ms/step - loss: 1.6043 - accuracy: 0.1633 - val_loss: 1.5984 - val_accuracy: 0.1631\n",
            "Epoch 47/1000\n",
            "3447/3447 [==============================] - 80s 23ms/step - loss: 1.6023 - accuracy: 0.1625 - val_loss: 1.5968 - val_accuracy: 0.1606\n",
            "Epoch 48/1000\n",
            "3447/3447 [==============================] - 79s 23ms/step - loss: 1.5987 - accuracy: 0.1615 - val_loss: 1.5958 - val_accuracy: 0.1607\n",
            "Epoch 49/1000\n",
            "3447/3447 [==============================] - 78s 23ms/step - loss: 1.5994 - accuracy: 0.1613 - val_loss: 1.5948 - val_accuracy: 0.1630\n",
            "Epoch 50/1000\n",
            "3447/3447 [==============================] - 78s 23ms/step - loss: 1.5950 - accuracy: 0.1640 - val_loss: 1.5951 - val_accuracy: 0.1616\n",
            "Epoch 51/1000\n",
            "3447/3447 [==============================] - 79s 23ms/step - loss: 1.5929 - accuracy: 0.1641 - val_loss: 1.5917 - val_accuracy: 0.1615\n",
            "Epoch 52/1000\n",
            "3447/3447 [==============================] - 79s 23ms/step - loss: 1.5911 - accuracy: 0.1643 - val_loss: 1.5916 - val_accuracy: 0.1623\n",
            "Epoch 53/1000\n",
            "3447/3447 [==============================] - 79s 23ms/step - loss: 1.5888 - accuracy: 0.1644 - val_loss: 1.5862 - val_accuracy: 0.1635\n",
            "Epoch 54/1000\n",
            "3447/3447 [==============================] - 81s 23ms/step - loss: 1.5863 - accuracy: 0.1645 - val_loss: 1.5837 - val_accuracy: 0.1645\n",
            "Epoch 55/1000\n",
            "3447/3447 [==============================] - 81s 24ms/step - loss: 1.5849 - accuracy: 0.1646 - val_loss: 1.5837 - val_accuracy: 0.1636\n",
            "Epoch 56/1000\n",
            "3447/3447 [==============================] - 81s 23ms/step - loss: 1.5834 - accuracy: 0.1646 - val_loss: 1.5810 - val_accuracy: 0.1645\n",
            "Epoch 57/1000\n",
            " 502/3447 [===>..........................] - ETA: 1:03 - loss: 1.5860 - accuracy: 0.1649"
          ],
          "name": "stdout"
        }
      ]
    }
  ]
}